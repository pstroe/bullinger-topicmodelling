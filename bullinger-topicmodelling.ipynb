{
 "cells": [
  {
   "cell_type": "code",
   "execution_count": 1,
   "id": "f70346ca",
   "metadata": {},
   "outputs": [],
   "source": [
    "#import modules\n",
    "import lxml.etree as etree\n",
    "import gensim\n",
    "import spacy\n",
    "import glob\n",
    "import copy\n",
    "import pickle\n",
    "from multiprocessing import Pool"
   ]
  },
  {
   "cell_type": "markdown",
   "id": "507d69fb",
   "metadata": {},
   "source": [
    "### If data is not preprocessed yet"
   ]
  },
  {
   "cell_type": "code",
   "execution_count": 2,
   "id": "4d7886af",
   "metadata": {},
   "outputs": [],
   "source": [
    "hbbw_xmls = glob.glob('/home/phillip/Documents/university/phd/bullinger/bullinger-korpus/data/editions/hbbw/*/*.xml')\n",
    "vbs_xmls = glob.glob('/home/phillip/Documents/university/phd/bullinger/bullinger-korpus/data/editions/vbs/*/*.xml')\n",
    "transcribed_xmls = glob.glob('/home/phillip/Documents/university/phd/bullinger/bullinger-korpus/data/non_edited/transcribed/*.xml')"
   ]
  },
  {
   "cell_type": "code",
   "execution_count": 3,
   "id": "919af077",
   "metadata": {},
   "outputs": [
    {
     "data": {
      "text/plain": [
       "8640"
      ]
     },
     "execution_count": 3,
     "metadata": {},
     "output_type": "execute_result"
    }
   ],
   "source": [
    "all_xmls = hbbw_xmls + vbs_xmls + transcribed_xmls\n",
    "len(all_xmls)"
   ]
  },
  {
   "cell_type": "code",
   "execution_count": 4,
   "id": "9e45f080",
   "metadata": {},
   "outputs": [
    {
     "name": "stdout",
     "output_type": "stream",
     "text": [
      "Defaulting to user installation because normal site-packages is not writeable\n",
      "Collecting la-core-web-lg==any\n",
      "  Downloading https://huggingface.co/latincy/la_core_web_lg/resolve/main/la_core_web_lg-any-py3-none-any.whl (237.1 MB)\n",
      "\u001b[2K     \u001b[38;2;114;156;31m━━━━━━━━━━━━━━━━━━━━━━━━━━━━━━━━━━━━━━\u001b[0m \u001b[32m237.1/237.1 MB\u001b[0m \u001b[31m13.0 MB/s\u001b[0m eta \u001b[36m0:00:00\u001b[0mm eta \u001b[36m0:00:01\u001b[0m[36m0:00:01\u001b[0m\n",
      "\u001b[?25hCollecting spacy<3.7.0,>=3.6.0 (from la-core-web-lg==any)\n",
      "  Obtaining dependency information for spacy<3.7.0,>=3.6.0 from https://files.pythonhosted.org/packages/58/93/051fc55f3e4e6d0d97beb77bbd5cd9e17589a0092305b4ae6164c6dcb58a/spacy-3.6.1-cp310-cp310-manylinux_2_17_x86_64.manylinux2014_x86_64.whl.metadata\n",
      "  Using cached spacy-3.6.1-cp310-cp310-manylinux_2_17_x86_64.manylinux2014_x86_64.whl.metadata (25 kB)\n",
      "Requirement already satisfied: spacy-legacy<3.1.0,>=3.0.11 in /home/phillip/.local/lib/python3.10/site-packages (from spacy<3.7.0,>=3.6.0->la-core-web-lg==any) (3.0.12)\n",
      "Requirement already satisfied: spacy-loggers<2.0.0,>=1.0.0 in /home/phillip/.local/lib/python3.10/site-packages (from spacy<3.7.0,>=3.6.0->la-core-web-lg==any) (1.0.4)\n",
      "Requirement already satisfied: murmurhash<1.1.0,>=0.28.0 in /home/phillip/.local/lib/python3.10/site-packages (from spacy<3.7.0,>=3.6.0->la-core-web-lg==any) (1.0.9)\n",
      "Requirement already satisfied: cymem<2.1.0,>=2.0.2 in /home/phillip/.local/lib/python3.10/site-packages (from spacy<3.7.0,>=3.6.0->la-core-web-lg==any) (2.0.7)\n",
      "Requirement already satisfied: preshed<3.1.0,>=3.0.2 in /home/phillip/.local/lib/python3.10/site-packages (from spacy<3.7.0,>=3.6.0->la-core-web-lg==any) (3.0.8)\n",
      "Requirement already satisfied: thinc<8.2.0,>=8.1.8 in /home/phillip/.local/lib/python3.10/site-packages (from spacy<3.7.0,>=3.6.0->la-core-web-lg==any) (8.1.10)\n",
      "Requirement already satisfied: wasabi<1.2.0,>=0.9.1 in /home/phillip/.local/lib/python3.10/site-packages (from spacy<3.7.0,>=3.6.0->la-core-web-lg==any) (1.1.2)\n",
      "Requirement already satisfied: srsly<3.0.0,>=2.4.3 in /home/phillip/.local/lib/python3.10/site-packages (from spacy<3.7.0,>=3.6.0->la-core-web-lg==any) (2.4.7)\n",
      "Requirement already satisfied: catalogue<2.1.0,>=2.0.6 in /home/phillip/.local/lib/python3.10/site-packages (from spacy<3.7.0,>=3.6.0->la-core-web-lg==any) (2.0.8)\n",
      "Requirement already satisfied: typer<0.10.0,>=0.3.0 in /home/phillip/.local/lib/python3.10/site-packages (from spacy<3.7.0,>=3.6.0->la-core-web-lg==any) (0.7.0)\n",
      "Requirement already satisfied: pathy>=0.10.0 in /home/phillip/.local/lib/python3.10/site-packages (from spacy<3.7.0,>=3.6.0->la-core-web-lg==any) (0.10.2)\n",
      "Requirement already satisfied: smart-open<7.0.0,>=5.2.1 in /home/phillip/.local/lib/python3.10/site-packages (from spacy<3.7.0,>=3.6.0->la-core-web-lg==any) (6.3.0)\n",
      "Requirement already satisfied: tqdm<5.0.0,>=4.38.0 in /home/phillip/.local/lib/python3.10/site-packages (from spacy<3.7.0,>=3.6.0->la-core-web-lg==any) (4.65.0)\n",
      "Requirement already satisfied: numpy>=1.15.0 in /home/phillip/.local/lib/python3.10/site-packages (from spacy<3.7.0,>=3.6.0->la-core-web-lg==any) (1.23.5)\n",
      "Requirement already satisfied: requests<3.0.0,>=2.13.0 in /usr/lib/python3/dist-packages (from spacy<3.7.0,>=3.6.0->la-core-web-lg==any) (2.25.1)\n",
      "Requirement already satisfied: pydantic!=1.8,!=1.8.1,<3.0.0,>=1.7.4 in /home/phillip/.local/lib/python3.10/site-packages (from spacy<3.7.0,>=3.6.0->la-core-web-lg==any) (1.10.11)\n",
      "Requirement already satisfied: jinja2 in /usr/lib/python3/dist-packages (from spacy<3.7.0,>=3.6.0->la-core-web-lg==any) (3.0.3)\n",
      "Requirement already satisfied: setuptools in /home/phillip/.local/lib/python3.10/site-packages (from spacy<3.7.0,>=3.6.0->la-core-web-lg==any) (67.6.1)\n",
      "Requirement already satisfied: packaging>=20.0 in /home/phillip/.local/lib/python3.10/site-packages (from spacy<3.7.0,>=3.6.0->la-core-web-lg==any) (23.1)\n",
      "Requirement already satisfied: langcodes<4.0.0,>=3.2.0 in /home/phillip/.local/lib/python3.10/site-packages (from spacy<3.7.0,>=3.6.0->la-core-web-lg==any) (3.3.0)\n",
      "Requirement already satisfied: typing-extensions>=4.2.0 in /home/phillip/.local/lib/python3.10/site-packages (from pydantic!=1.8,!=1.8.1,<3.0.0,>=1.7.4->spacy<3.7.0,>=3.6.0->la-core-web-lg==any) (4.2.0)\n",
      "Requirement already satisfied: blis<0.8.0,>=0.7.8 in /home/phillip/.local/lib/python3.10/site-packages (from thinc<8.2.0,>=8.1.8->spacy<3.7.0,>=3.6.0->la-core-web-lg==any) (0.7.10)\n",
      "Requirement already satisfied: confection<1.0.0,>=0.0.1 in /home/phillip/.local/lib/python3.10/site-packages (from thinc<8.2.0,>=8.1.8->spacy<3.7.0,>=3.6.0->la-core-web-lg==any) (0.1.0)\n",
      "Requirement already satisfied: click<9.0.0,>=7.1.1 in /home/phillip/.local/lib/python3.10/site-packages (from typer<0.10.0,>=0.3.0->spacy<3.7.0,>=3.6.0->la-core-web-lg==any) (8.1.7)\n",
      "Using cached spacy-3.6.1-cp310-cp310-manylinux_2_17_x86_64.manylinux2014_x86_64.whl (6.6 MB)\n",
      "\u001b[33mDEPRECATION: celery 4.4.7 has a non-standard dependency specifier pytz>dev. pip 23.3 will enforce this behaviour change. A possible replacement is to upgrade to a newer version of celery or contact the author to suggest that they release a version with a conforming dependency specifiers. Discussion can be found at https://github.com/pypa/pip/issues/12063\u001b[0m\u001b[33m\n",
      "\u001b[0m\u001b[33mDEPRECATION: python-debian 0.1.43ubuntu1 has a non-standard version number. pip 23.3 will enforce this behaviour change. A possible replacement is to upgrade to a newer version of python-debian or contact the author to suggest that they release a version with a conforming version number. Discussion can be found at https://github.com/pypa/pip/issues/12063\u001b[0m\u001b[33m\n",
      "\u001b[0mInstalling collected packages: spacy\n",
      "  Attempting uninstall: spacy\n",
      "    Found existing installation: spacy 3.5.2\n",
      "    Uninstalling spacy-3.5.2:\n",
      "      Successfully uninstalled spacy-3.5.2\n",
      "\u001b[31mERROR: pip's dependency resolver does not currently take into account all the packages that are installed. This behaviour is the source of the following dependency conflicts.\n",
      "la-core-web-trf 3.5.2 requires spacy<3.6.0,>=3.5.2, but you have spacy 3.6.1 which is incompatible.\u001b[0m\u001b[31m\n",
      "\u001b[0mSuccessfully installed spacy-3.6.1\n"
     ]
    }
   ],
   "source": [
    "!pip3 install https://huggingface.co/latincy/la_core_web_lg/resolve/main/la_core_web_lg-any-py3-none-any.whl"
   ]
  },
  {
   "cell_type": "code",
   "execution_count": 7,
   "id": "6697ceab",
   "metadata": {},
   "outputs": [],
   "source": [
    "nlp = spacy.load('la_core_web_trf')"
   ]
  },
  {
   "cell_type": "code",
   "execution_count": null,
   "id": "61af5cc2",
   "metadata": {},
   "outputs": [
    {
     "name": "stdout",
     "output_type": "stream",
     "text": [
      "I am at file 0\n",
      "I am at file 300\n",
      "I am at file 600\n",
      "I am at file 900\n",
      "I am at file 1200\n",
      "I am at file 1500\n",
      "I am at file 1800\n",
      "I am at file 2100\n",
      "I am at file 2400\n",
      "I am at file 2700\n",
      "I am at file 3000\n",
      "I am at file 3300\n",
      "I am at file 3600\n",
      "I am at file 3900\n",
      "I am at file 4200\n",
      "I am at file 4500\n",
      "I am at file 4800\n",
      "I am at file 5100\n",
      "I am at file 5400\n",
      "I am at file 5700\n",
      "I am at file 6000\n",
      "I am at file 6300\n",
      "I am at file 6600\n",
      "I am at file 6900\n"
     ]
    }
   ],
   "source": [
    "texts = []\n",
    "for i, xml in enumerate(all_xmls):\n",
    "    if i % 300 == 0:\n",
    "        print('I am at file {}'.format(i))\n",
    "    text = []\n",
    "    la_sents = 0\n",
    "    xml_open = etree.parse(open(xml, 'r'))\n",
    "    xml_name = xml.split('/')[-1].replace('.xml', '') \n",
    "    root = xml_open.getroot()\n",
    "    sentences = root.findall('.//s')\n",
    "    for s in sentences:\n",
    "        if s.get('lang') == 'la':\n",
    "            s_copy = copy.deepcopy(s)\n",
    "            for fl in s_copy.findall('.//fl'):\n",
    "                fl.clear()\n",
    "                try:\n",
    "                    s_copy.remove(fl)\n",
    "                except:\n",
    "                    s_copy == s_copy\n",
    "            \n",
    "            la_sents += 1\n",
    "            try:\n",
    "                doc = nlp(\"\".join(s_copy.itertext()).replace('[', '').replace(']', ''))\n",
    "                lemmas = [w.lemma_ for w in doc if w.pos_ in ['NOUN']]\n",
    "                text += lemmas\n",
    "            except TypeError:\n",
    "                continue\n",
    "    if la_sents >= 5:\n",
    "        texts.append([xml_name, 'latin', text])"
   ]
  },
  {
   "cell_type": "code",
   "execution_count": 21,
   "id": "f8344ac7",
   "metadata": {},
   "outputs": [
    {
     "data": {
      "text/plain": [
       "[['05_606_10644',\n",
       "  'latin',\n",
       "  ['Doctor',\n",
       "   'cornmendatio',\n",
       "   'uir',\n",
       "   'res',\n",
       "   'laus',\n",
       "   'autoritati',\n",
       "   'res',\n",
       "   'ludus',\n",
       "   'nonae',\n",
       "   'iulius',\n",
       "   'Bullingerus',\n",
       "   'contionator',\n",
       "   'praeceptor',\n",
       "   'dominus']]]"
      ]
     },
     "execution_count": 21,
     "metadata": {},
     "output_type": "execute_result"
    }
   ],
   "source": [
    "texts"
   ]
  },
  {
   "cell_type": "code",
   "execution_count": 31,
   "id": "cdb6487d",
   "metadata": {},
   "outputs": [
    {
     "data": {
      "text/plain": [
       "7374"
      ]
     },
     "execution_count": 31,
     "metadata": {},
     "output_type": "execute_result"
    }
   ],
   "source": [
    "len(texts)"
   ]
  },
  {
   "cell_type": "code",
   "execution_count": 33,
   "id": "9243df32",
   "metadata": {},
   "outputs": [],
   "source": [
    "# texts all in a list, in the form of [[{file_name: ['tok1', 'tok2', ...]}], [{file_name: ['tok1', 'tok2', ...]}], ...]\n",
    "with open('bullinger-letters-tok-lem.list', 'wb') as file:\n",
    "    pickle.dump(texts, file)"
   ]
  },
  {
   "cell_type": "markdown",
   "id": "a657ba57",
   "metadata": {},
   "source": [
    "### If data is already pre-processed and in the format mentioned above"
   ]
  },
  {
   "cell_type": "code",
   "execution_count": 4,
   "id": "5f6d42fb",
   "metadata": {},
   "outputs": [],
   "source": [
    "texts = pickle.load(open('data/bullinger-letters-tok-lem.list', 'rb'))"
   ]
  },
  {
   "cell_type": "code",
   "execution_count": 5,
   "id": "66b65944",
   "metadata": {},
   "outputs": [],
   "source": [
    "values = [value_list for inner_list in texts for dictionary in inner_list for value_list in dictionary.values()]"
   ]
  },
  {
   "cell_type": "code",
   "execution_count": 6,
   "id": "8c83f4a8",
   "metadata": {},
   "outputs": [],
   "source": [
    "dictionary = gensim.corpora.Dictionary(values)\n",
    "corpus = [dictionary.doc2bow(doc) for doc in values]"
   ]
  },
  {
   "cell_type": "code",
   "execution_count": null,
   "id": "da837c0c",
   "metadata": {},
   "outputs": [],
   "source": [
    "# also save corpus as a mallet format\n"
   ]
  },
  {
   "cell_type": "code",
   "execution_count": 7,
   "id": "07283e08",
   "metadata": {},
   "outputs": [
    {
     "name": "stdout",
     "output_type": "stream",
     "text": [
      "Topic: 0 \n",
      "Words: 0.069*\"dominus\" + 0.041*\"frater\" + 0.026*\"Christus\" + 0.021*\"Bullingerus\" + 0.019*\"nihil\" + 0.014*\"annus\" + 0.013*\"uir\" + 0.012*\"Heinricho\" + 0.012*\"animus\" + 0.011*\"res\"\n",
      "\n",
      "Topic: 1 \n",
      "Words: 0.007*\"liber\" + 0.006*\"translatio\" + 0.006*\"Clemens\" + 0.005*\"textus\" + 0.005*\"consul\" + 0.004*\"uersio\" + 0.004*\"carmen\" + 0.004*\"scriptor\" + 0.004*\"census\" + 0.003*\"epistola\"\n",
      "\n",
      "Topic: 2 \n",
      "Words: 0.008*\"majestas\" + 0.007*\"parliamentum\" + 0.006*\"Jesus\" + 0.004*\"synodus\" + 0.004*\"Joannes\" + 0.004*\"tempus\" + 0.003*\"litera\" + 0.003*\"ciuis\" + 0.003*\"Cromwellus\" + 0.003*\"libatio\"\n",
      "\n",
      "Topic: 3 \n",
      "Words: 0.022*\"annus\" + 0.021*\"uir\" + 0.021*\"res\" + 0.020*\"dominus\" + 0.016*\"litera\" + 0.013*\"urbs\" + 0.013*\"episcopus\" + 0.012*\"Uadianus\" + 0.012*\"nomen\" + 0.012*\"Bullingerus\"\n",
      "\n",
      "Topic: 4 \n",
      "Words: 0.037*\"dominus\" + 0.031*\"ecclesia\" + 0.029*\"uir\" + 0.024*\"res\" + 0.024*\"litera\" + 0.022*\"frater\" + 0.018*\"animus\" + 0.015*\"Christus\" + 0.013*\"deus\" + 0.012*\"Bullingerus\"\n",
      "\n",
      "Topic: 5 \n",
      "Words: 0.013*\"dies\" + 0.009*\"liber\" + 0.004*\"gloria\" + 0.003*\"manus\" + 0.003*\"tempus\" + 0.003*\"homo\" + 0.003*\"domus\" + 0.003*\"modus\" + 0.002*\"lectio\" + 0.002*\"senatus\"\n",
      "\n",
      "Topic: 6 \n",
      "Words: 0.004*\"regnum\" + 0.004*\"sanguis\" + 0.004*\"princeps\" + 0.004*\"domus\" + 0.004*\"fasciculus\" + 0.004*\"opus\" + 0.003*\"Joannes\" + 0.002*\"pecunia\" + 0.002*\"monachus\" + 0.002*\"confessio\"\n",
      "\n",
      "Topic: 7 \n",
      "Words: 0.036*\"pater\" + 0.024*\"uir\" + 0.022*\"consul\" + 0.018*\"causa\" + 0.018*\"litera\" + 0.016*\"Curia\" + 0.015*\"nihil\" + 0.015*\"homo\" + 0.014*\"Heinrycho\" + 0.014*\"senatus\"\n",
      "\n",
      "Topic: 8 \n",
      "Words: 0.004*\"praefectus\" + 0.002*\"Psalterius\" + 0.002*\"Wegmannus\" + 0.002*\"Obtulus\" + 0.002*\"Dießbach\" + 0.002*\"connubium\" + 0.002*\"Nomen\" + 0.002*\"Hessus\" + 0.002*\"papista\" + 0.002*\"uindemia\"\n",
      "\n",
      "Topic: 9 \n",
      "Words: 0.012*\"deus\" + 0.007*\"dominus\" + 0.006*\"pater\" + 0.006*\"libellus\" + 0.005*\"gratia\" + 0.005*\"Leopoldus\" + 0.005*\"Biellnis\" + 0.004*\"Fry\" + 0.004*\"D.\" + 0.004*\"concio\"\n",
      "\n",
      "Topic: 10 \n",
      "Words: 0.026*\"uir\" + 0.024*\"Gratia\" + 0.024*\"Ioachimo\" + 0.014*\"liber\" + 0.013*\"dominus\" + 0.013*\"Uadianus\" + 0.012*\"uita\" + 0.012*\"pax\" + 0.011*\"innocentia\" + 0.010*\"consul\"\n",
      "\n",
      "Topic: 11 \n",
      "Words: 0.040*\"dominus\" + 0.018*\"uir\" + 0.013*\"fides\" + 0.008*\"deus\" + 0.008*\"Domus\" + 0.006*\"dies\" + 0.006*\"annus\" + 0.005*\"modus\" + 0.005*\"filius\" + 0.004*\"episcopus\"\n",
      "\n",
      "Topic: 12 \n",
      "Words: 0.101*\"colloquium\" + 0.040*\"confessio\" + 0.036*\"legatus\" + 0.033*\"res\" + 0.030*\"pars\" + 0.027*\"princeps\" + 0.026*\"sententia\" + 0.019*\"causa\" + 0.017*\"Caesar\" + 0.015*\"adversarius\"\n",
      "\n",
      "Topic: 13 \n",
      "Words: 0.007*\"M.\" + 0.005*\"Aug.\" + 0.005*\"August\" + 0.005*\"Ursula\" + 0.005*\"Barbara\" + 0.004*\"Caes.\" + 0.004*\"P.\" + 0.004*\"Conradinus\" + 0.003*\"Philippus\" + 0.003*\"Wolffius\"\n",
      "\n",
      "Topic: 14 \n",
      "Words: 0.025*\"Christus\" + 0.007*\"annus\" + 0.006*\"epistola\" + 0.006*\"dominus\" + 0.006*\"ecclesię\" + 0.005*\"uir\" + 0.004*\"Gratia\" + 0.004*\"Iesus\" + 0.004*\"animus\" + 0.004*\"commentarius\"\n",
      "\n",
      "Topic: 15 \n",
      "Words: 0.033*\"litera\" + 0.028*\"uir\" + 0.022*\"humanitas\" + 0.014*\"nihil\" + 0.014*\"studium\" + 0.012*\"res\" + 0.012*\"princeps\" + 0.009*\"Bullingerus\" + 0.007*\"uirtus\" + 0.007*\"homo\"\n",
      "\n",
      "Topic: 16 \n",
      "Words: 0.005*\"sacramentum\" + 0.003*\"uerbum\" + 0.003*\"corpus\" + 0.003*\"nihil\" + 0.003*\"Ecclesia\" + 0.002*\"professor\" + 0.002*\"ebrietas\" + 0.002*\"tragedia\" + 0.002*\"dominicus\" + 0.002*\"ciuis\"\n",
      "\n",
      "Topic: 17 \n",
      "Words: 0.037*\"dominus\" + 0.018*\"amicus\" + 0.017*\"Stetten\" + 0.016*\"Bullingerus\" + 0.014*\"Georgius\" + 0.013*\"Tiguri\" + 0.011*\"Henricus\" + 0.010*\"Datus\" + 0.010*\"Reverentia\" + 0.008*\"Augustę\"\n",
      "\n",
      "Topic: 18 \n",
      "Words: 0.026*\"rex\" + 0.017*\"res\" + 0.015*\"princeps\" + 0.014*\"dominus\" + 0.011*\"nihil\" + 0.011*\"litera\" + 0.010*\"dies\" + 0.010*\"bellum\" + 0.010*\"dux\" + 0.009*\"legatus\"\n",
      "\n",
      "Topic: 19 \n",
      "Words: 0.035*\"Christus\" + 0.020*\"frater\" + 0.020*\"deus\" + 0.017*\"Erbius\" + 0.015*\"dominus\" + 0.013*\"princeps\" + 0.012*\"Gratia\" + 0.011*\"ecclesię\" + 0.009*\"Bullingerus\" + 0.009*\"pietas\"\n",
      "\n",
      "Topic: 20 \n",
      "Words: 0.003*\"descriptor\" + 0.003*\"prouincia\" + 0.002*\"Conditio\" + 0.002*\"Bavares\" + 0.002*\"magnus\" + 0.002*\"capitulum\" + 0.002*\"Maximilianus\" + 0.002*\"uectura\" + 0.002*\"silentium\" + 0.002*\"castra\"\n",
      "\n",
      "Topic: 21 \n",
      "Words: 0.009*\"Gribaldus\" + 0.007*\"Caesar\" + 0.006*\"Uergerius\" + 0.004*\"mona\" + 0.004*\"princeps\" + 0.003*\"Lycosthenes\" + 0.003*\"litera\" + 0.003*\"Stutgardia\" + 0.003*\"Frisio\" + 0.003*\"causa\"\n",
      "\n",
      "Topic: 22 \n",
      "Words: 0.004*\"Rheti\" + 0.003*\"zl19341\" + 0.003*\"cęlum\" + 0.002*\"materia\" + 0.002*\"sęvitia\" + 0.002*\"Uolmarius\" + 0.002*\"quęstio\" + 0.002*\"Rhetum\" + 0.002*\"lignum\" + 0.002*\"negocius\"\n",
      "\n",
      "Topic: 23 \n",
      "Words: 0.007*\"modus\" + 0.006*\"nummus\" + 0.006*\"sumptus\" + 0.005*\"animus\" + 0.004*\"lusus\" + 0.004*\"religio\" + 0.004*\"lucrum\" + 0.004*\"libra\" + 0.003*\"libellus\" + 0.003*\"uictus\"\n",
      "\n",
      "Topic: 24 \n",
      "Words: 0.066*\"dominus\" + 0.021*\"Hallerus\" + 0.020*\"ecclesia\" + 0.019*\"nihil\" + 0.018*\"Heinrycho\" + 0.018*\"uir\" + 0.017*\"gratia\" + 0.015*\"res\" + 0.015*\"Musculus\" + 0.015*\"Bullingerus\"\n",
      "\n",
      "Topic: 25 \n",
      "Words: 0.003*\"Mathię\" + 0.003*\"prędestinatio\" + 0.002*\"struma\" + 0.002*\"Rüttensis\" + 0.002*\"spretum\" + 0.002*\"olfacio\" + 0.002*\"Covertallus\" + 0.002*\"uenter\" + 0.002*\"Glareani\" + 0.002*\"Uergerii\"\n",
      "\n",
      "Topic: 26 \n",
      "Words: 0.017*\"Christus\" + 0.011*\"animus\" + 0.010*\"res\" + 0.010*\"ecclesia\" + 0.008*\"nomen\" + 0.007*\"Scotia\" + 0.006*\"dies\" + 0.005*\"frater\" + 0.005*\"minister\" + 0.005*\"urbs\"\n",
      "\n",
      "Topic: 27 \n",
      "Words: 0.040*\"Christus\" + 0.029*\"deus\" + 0.026*\"ecclesia\" + 0.023*\"dominus\" + 0.016*\"uerbum\" + 0.016*\"fides\" + 0.014*\"res\" + 0.013*\"homo\" + 0.011*\"nihil\" + 0.010*\"ueritas\"\n",
      "\n",
      "Topic: 28 \n",
      "Words: 0.011*\"Leo\" + 0.009*\"Brentius\" + 0.008*\"Uergerius\" + 0.007*\"smidelinus\" + 0.006*\"liber\" + 0.005*\"Petrus\" + 0.005*\"corpus\" + 0.004*\"coelum\" + 0.003*\"prodigium\" + 0.003*\"locus\"\n",
      "\n",
      "Topic: 29 \n",
      "Words: 0.033*\"dominus\" + 0.028*\"litera\" + 0.023*\"deus\" + 0.017*\"uir\" + 0.015*\"res\" + 0.015*\"Anglia\" + 0.014*\"nomen\" + 0.013*\"dies\" + 0.012*\"D.\" + 0.011*\"episcopus\"\n",
      "\n",
      "Topic: 30 \n",
      "Words: 0.026*\"dominus\" + 0.017*\"res\" + 0.016*\"senatus\" + 0.013*\"Heinricus\" + 0.012*\"annus\" + 0.012*\"nihil\" + 0.011*\"dies\" + 0.010*\"tempus\" + 0.009*\"litera\" + 0.009*\"Bullingerus\"\n",
      "\n",
      "Topic: 31 \n",
      "Words: 0.006*\"D.\" + 0.005*\"nauis\" + 0.005*\"Balingius\" + 0.004*\"pecunia\" + 0.003*\"Flusshinga\" + 0.003*\"Francfortus\" + 0.003*\"Hispani\" + 0.003*\"nundina\" + 0.003*\"mercator\" + 0.003*\"froschouerus\"\n",
      "\n",
      "Topic: 32 \n",
      "Words: 0.042*\"Christus\" + 0.021*\"pater\" + 0.014*\"dominus\" + 0.013*\"coelum\" + 0.012*\"coelus\" + 0.009*\"annus\" + 0.008*\"uir\" + 0.008*\"homo\" + 0.008*\"deus\" + 0.008*\"locus\"\n",
      "\n",
      "Topic: 33 \n",
      "Words: 0.004*\"legatus\" + 0.003*\"castrum\" + 0.002*\"Gribaldus\" + 0.002*\"1564s\" + 0.002*\"Treverensis\" + 0.002*\"piscis\" + 0.002*\"Iacob\" + 0.002*\"Wormatia\" + 0.002*\"privillegius\" + 0.002*\"Bartholomeus\"\n",
      "\n",
      "Topic: 34 \n",
      "Words: 0.005*\"Philippus\" + 0.004*\"ager\" + 0.003*\"Saxones\" + 0.003*\"Noricus\" + 0.003*\"Frechtus\" + 0.002*\"Leningus\" + 0.002*\"ceremonia\" + 0.002*\"libellus\" + 0.002*\"praesidium\" + 0.002*\"fortitudo\"\n",
      "\n",
      "Topic: 35 \n",
      "Words: 0.005*\"littera\" + 0.003*\"Turci\" + 0.002*\"Heinricus\" + 0.002*\"Guysium\" + 0.002*\"Cuperes\" + 0.002*\"Barus\" + 0.002*\"Traversus\" + 0.002*\"tutor\" + 0.002*\"actum\" + 0.002*\"gloria\"\n",
      "\n",
      "Topic: 36 \n",
      "Words: 0.027*\"princeps\" + 0.025*\"dominus\" + 0.024*\"ecclesia\" + 0.018*\"schola\" + 0.013*\"litera\" + 0.012*\"liber\" + 0.011*\"deus\" + 0.011*\"causa\" + 0.011*\"Tubinga\" + 0.007*\"locus\"\n",
      "\n",
      "Topic: 37 \n",
      "Words: 0.010*\"scola\" + 0.004*\"orator\" + 0.004*\"antistes\" + 0.003*\"Locarnenses\" + 0.003*\"commissarius\" + 0.003*\"sensus\" + 0.003*\"mendacium\" + 0.003*\"fatia\" + 0.002*\"refutatio\" + 0.002*\"puer\"\n",
      "\n",
      "Topic: 38 \n",
      "Words: 0.037*\"uir\" + 0.030*\"dominus\" + 0.021*\"frater\" + 0.020*\"Curia\" + 0.020*\"Bullingerus\" + 0.019*\"dies\" + 0.017*\"Iohannes\" + 0.015*\"Blasius\" + 0.015*\"Comander\" + 0.015*\"episcopus\"\n",
      "\n",
      "Topic: 39 \n",
      "Words: 0.079*\"deus\" + 0.057*\"filius\" + 0.046*\"pater\" + 0.031*\"dominus\" + 0.018*\"ecclesia\" + 0.012*\"Christus\" + 0.011*\"nomen\" + 0.011*\"uir\" + 0.010*\"Iesus\" + 0.009*\"homo\"\n",
      "\n",
      "Topic: 40 \n",
      "Words: 0.026*\"deus\" + 0.024*\"praedestinatio\" + 0.015*\"arbitrium\" + 0.009*\"homo\" + 0.009*\"providentia\" + 0.007*\"uoluntas\" + 0.005*\"Augustinus\" + 0.005*\"permissio\" + 0.005*\"autor\" + 0.005*\"lib\"\n",
      "\n",
      "Topic: 41 \n",
      "Words: 0.012*\"uir\" + 0.008*\"D.\" + 0.008*\"mater\" + 0.007*\"Gallia\" + 0.006*\"filia\" + 0.006*\"frater\" + 0.006*\"Valus\" + 0.005*\"soror\" + 0.004*\"regnum\" + 0.004*\"pannus\"\n",
      "\n",
      "Topic: 42 \n",
      "Words: 0.024*\"lex\" + 0.015*\"animus\" + 0.015*\"res\" + 0.013*\"senatus\" + 0.011*\"ius\" + 0.011*\"matrimonium\" + 0.010*\"dominus\" + 0.009*\"homo\" + 0.009*\"uir\" + 0.008*\"modus\"\n",
      "\n",
      "Topic: 43 \n",
      "Words: 0.008*\"homo\" + 0.007*\"res\" + 0.004*\"uerbum\" + 0.004*\"Sulzerus\" + 0.004*\"Heinricus\" + 0.003*\"Domus\" + 0.003*\"Nicolaus\" + 0.003*\"1567\" + 0.002*\"condensis\" + 0.002*\"Guilhelmus\"\n",
      "\n",
      "Topic: 44 \n",
      "Words: 0.035*\"dominus\" + 0.017*\"Sulcerus\" + 0.015*\"Basilea\" + 0.014*\"Heinricho\" + 0.013*\"Bullingerus\" + 0.012*\"Viro\" + 0.011*\"locus\" + 0.010*\"uir\" + 0.009*\"symmista\" + 0.008*\"annus\"\n",
      "\n",
      "Topic: 45 \n",
      "Words: 0.010*\"Caesar\" + 0.007*\"...\" + 0.004*\"ciuitas\" + 0.003*\"Ptolemaeus\" + 0.003*\"factio\" + 0.003*\"tribus\" + 0.003*\"cena\" + 0.003*\"Heluetii\" + 0.003*\"Hispanae\" + 0.003*\"Musculus\"\n",
      "\n",
      "Topic: 46 \n",
      "Words: 0.025*\"dominus\" + 0.020*\"Christus\" + 0.019*\"frater\" + 0.016*\"uir\" + 0.016*\"amicus\" + 0.015*\"res\" + 0.013*\"Blaurerus\" + 0.013*\"domus\" + 0.010*\"Ambrosius\" + 0.009*\"gratia\"\n",
      "\n",
      "Topic: 47 \n",
      "Words: 0.062*\"dominus\" + 0.049*\"frater\" + 0.030*\"uir\" + 0.029*\"ecclesia\" + 0.022*\"litera\" + 0.019*\"Tiguri\" + 0.018*\"D.us\" + 0.017*\"Bullingerus\" + 0.014*\"minister\" + 0.013*\"res\"\n",
      "\n",
      "Topic: 48 \n",
      "Words: 0.008*\"ecclesia\" + 0.006*\"episcopus\" + 0.005*\"libellus\" + 0.004*\"ius\" + 0.004*\"liber\" + 0.003*\"littera\" + 0.003*\"pax\" + 0.003*\"ager\" + 0.003*\"caput\" + 0.003*\"homo\"\n",
      "\n",
      "Topic: 49 \n",
      "Words: 0.005*\"Rhodolphus\" + 0.004*\"ueredarium\" + 0.003*\"Andwerpia\" + 0.003*\"comitium\" + 0.003*\"dux\" + 0.002*\"Uergerus\" + 0.002*\"februarii\" + 0.002*\"mater\" + 0.002*\"copia\" + 0.002*\"minim\"\n",
      "\n"
     ]
    }
   ],
   "source": [
    "# Train LDA model\n",
    "num_topics = 50  # You can adjust this based on your data and requirements\n",
    "lda = gensim.models.LdaMulticore(corpus, id2word=dictionary, num_topics=num_topics, passes=200, workers=16)\n",
    "\n",
    "# Print the topics\n",
    "for idx, topic in lda.print_topics(-1):\n",
    "    print(f\"Topic: {idx} \\nWords: {topic}\\n\")"
   ]
  },
  {
   "cell_type": "code",
   "execution_count": 10,
   "id": "ef19a052",
   "metadata": {},
   "outputs": [],
   "source": [
    "lda.save(\"models/gensim_lda_model-bullinger_nouns_50topics/gensim_lda_model-bullinger_nouns_50topics\")"
   ]
  },
  {
   "cell_type": "code",
   "execution_count": null,
   "id": "b432f671",
   "metadata": {},
   "outputs": [],
   "source": []
  }
 ],
 "metadata": {
  "kernelspec": {
   "display_name": "Python 3 (ipykernel)",
   "language": "python",
   "name": "python3"
  },
  "language_info": {
   "codemirror_mode": {
    "name": "ipython",
    "version": 3
   },
   "file_extension": ".py",
   "mimetype": "text/x-python",
   "name": "python",
   "nbconvert_exporter": "python",
   "pygments_lexer": "ipython3",
   "version": "3.10.12"
  }
 },
 "nbformat": 4,
 "nbformat_minor": 5
}

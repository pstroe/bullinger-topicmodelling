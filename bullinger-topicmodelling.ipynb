{
 "cells": [
  {
   "cell_type": "code",
   "execution_count": 22,
   "id": "f70346ca",
   "metadata": {},
   "outputs": [],
   "source": [
    "#import modules\n",
    "import lxml.etree as etree\n",
    "import gensim\n",
    "import spacy\n",
    "import glob\n",
    "import copy"
   ]
  },
  {
   "cell_type": "code",
   "execution_count": 2,
   "id": "4d7886af",
   "metadata": {},
   "outputs": [],
   "source": [
    "hbbw_xmls = glob.glob('/home/phillip/Documents/uzh/phd/bullinger/bullinger-korpus/data/editions/hbbw/*/*.xml')\n",
    "vbs_xmls = glob.glob('/home/phillip/Documents/uzh/phd/bullinger/bullinger-korpus/data/editions/vbs/*/*.xml')\n",
    "transcribed_xmls = glob.glob('/home/phillip/Documents/uzh/phd/bullinger/bullinger-korpus/data/non_edited/transcribed/*.xml')"
   ]
  },
  {
   "cell_type": "code",
   "execution_count": 3,
   "id": "919af077",
   "metadata": {},
   "outputs": [
    {
     "data": {
      "text/plain": [
       "8640"
      ]
     },
     "execution_count": 3,
     "metadata": {},
     "output_type": "execute_result"
    }
   ],
   "source": [
    "all_xmls = hbbw_xmls + vbs_xmls + transcribed_xmls\n",
    "len(all_xmls)"
   ]
  },
  {
   "cell_type": "code",
   "execution_count": 15,
   "id": "6697ceab",
   "metadata": {},
   "outputs": [],
   "source": [
    "nlp = spacy.load('la_core_web_lg')"
   ]
  },
  {
   "cell_type": "code",
   "execution_count": 30,
   "id": "61af5cc2",
   "metadata": {},
   "outputs": [
    {
     "name": "stdout",
     "output_type": "stream",
     "text": [
      "I am at file 0\n",
      "I am at file 100\n",
      "I am at file 200\n",
      "I am at file 300\n",
      "I am at file 400\n",
      "I am at file 500\n",
      "I am at file 600\n",
      "I am at file 700\n",
      "I am at file 800\n",
      "I am at file 900\n",
      "I am at file 1000\n",
      "I am at file 1100\n",
      "I am at file 1200\n",
      "I am at file 1300\n",
      "I am at file 1400\n",
      "I am at file 1500\n",
      "I am at file 1600\n",
      "I am at file 1700\n",
      "I am at file 1800\n",
      "I am at file 1900\n",
      "I am at file 2000\n",
      "I am at file 2100\n",
      "I am at file 2200\n",
      "I am at file 2300\n",
      "I am at file 2400\n",
      "I am at file 2500\n",
      "I am at file 2600\n",
      "I am at file 2700\n",
      "I am at file 2800\n",
      "I am at file 2900\n",
      "I am at file 3000\n",
      "I am at file 3100\n",
      "I am at file 3200\n",
      "I am at file 3300\n",
      "I am at file 3400\n",
      "I am at file 3500\n",
      "I am at file 3600\n",
      "I am at file 3700\n",
      "I am at file 3800\n",
      "I am at file 3900\n",
      "I am at file 4000\n",
      "I am at file 4100\n",
      "I am at file 4200\n",
      "I am at file 4300\n",
      "I am at file 4400\n",
      "I am at file 4500\n",
      "I am at file 4600\n",
      "I am at file 4700\n",
      "I am at file 4800\n",
      "I am at file 4900\n",
      "I am at file 5000\n",
      "I am at file 5100\n",
      "I am at file 5200\n",
      "I am at file 5300\n",
      "I am at file 5400\n",
      "I am at file 5500\n",
      "I am at file 5600\n",
      "I am at file 5700\n",
      "I am at file 5800\n",
      "I am at file 5900\n",
      "I am at file 6000\n",
      "I am at file 6100\n",
      "I am at file 6200\n",
      "I am at file 6300\n",
      "I am at file 6400\n",
      "I am at file 6500\n",
      "I am at file 6600\n",
      "I am at file 6700\n",
      "I am at file 6800\n",
      "I am at file 6900\n",
      "I am at file 7000\n",
      "I am at file 7100\n",
      "I am at file 7200\n",
      "I am at file 7300\n",
      "I am at file 7400\n",
      "I am at file 7500\n",
      "I am at file 7600\n",
      "I am at file 7700\n",
      "I am at file 7800\n",
      "I am at file 7900\n",
      "I am at file 8000\n",
      "I am at file 8100\n",
      "I am at file 8200\n",
      "I am at file 8300\n",
      "I am at file 8400\n",
      "I am at file 8500\n",
      "I am at file 8600\n"
     ]
    }
   ],
   "source": [
    "texts = []\n",
    "for i, xml in enumerate(all_xmls):\n",
    "    if i % 100 == 0:\n",
    "        print('I am at file {}'.format(i))\n",
    "    text = []\n",
    "    la_sents = 0\n",
    "    xml_open = etree.parse(open(xml, 'r'))\n",
    "    xml_name = xml.split('/')[-1].replace('.xml', '') \n",
    "    root = xml_open.getroot()\n",
    "    sentences = root.findall('.//s')\n",
    "    for s in sentences:\n",
    "        if s.get('lang') == 'la':\n",
    "            s_copy = copy.deepcopy(s)\n",
    "            for fl in s_copy.findall('.//fl'):\n",
    "                fl.clear()\n",
    "                try:\n",
    "                    s_copy.remove(fl)\n",
    "                except:\n",
    "                    s_copy == s_copy\n",
    "            \n",
    "            la_sents += 1\n",
    "            try:\n",
    "                doc = nlp(\"\".join(s_copy.itertext()).replace('[', '').replace(']', ''))\n",
    "                lemmas = [w.lemma_ for w in doc if w.pos_ in ['NOUN', 'PROPN']]\n",
    "                text += lemmas\n",
    "            except TypeError:\n",
    "                continue\n",
    "    if la_sents >= 5:\n",
    "        texts.append([{xml_name: text}])"
   ]
  },
  {
   "cell_type": "code",
   "execution_count": 31,
   "id": "cdb6487d",
   "metadata": {},
   "outputs": [
    {
     "data": {
      "text/plain": [
       "7374"
      ]
     },
     "execution_count": 31,
     "metadata": {},
     "output_type": "execute_result"
    }
   ],
   "source": [
    "len(texts)"
   ]
  },
  {
   "cell_type": "code",
   "execution_count": 32,
   "id": "34a98d0c",
   "metadata": {},
   "outputs": [],
   "source": [
    "import pickle"
   ]
  },
  {
   "cell_type": "code",
   "execution_count": 33,
   "id": "9243df32",
   "metadata": {},
   "outputs": [],
   "source": [
    "# texts all in a list, in the form of [[{file_name: ['tok1', 'tok2', ...]}], [{file_name: ['tok1', 'tok2', ...]}], ...]\n",
    "with open('bullinger-letters-tok-lem.list', 'wb') as file:\n",
    "    pickle.dump(texts, file)"
   ]
  },
  {
   "cell_type": "code",
   "execution_count": 37,
   "id": "66b65944",
   "metadata": {},
   "outputs": [],
   "source": [
    "values = [value_list for inner_list in texts for dictionary in inner_list for value_list in dictionary.values()]"
   ]
  },
  {
   "cell_type": "code",
   "execution_count": 40,
   "id": "8c83f4a8",
   "metadata": {},
   "outputs": [],
   "source": [
    "dictionary = gensim.corpora.Dictionary(values)\n",
    "corpus = [dictionary.doc2bow(doc) for doc in values]"
   ]
  },
  {
   "cell_type": "code",
   "execution_count": 42,
   "id": "07283e08",
   "metadata": {},
   "outputs": [
    {
     "name": "stdout",
     "output_type": "stream",
     "text": [
      "Topic: 0 \n",
      "Words: 0.035*\"dominus\" + 0.031*\"urbs\" + 0.028*\"Uadianus\" + 0.026*\"Caesar\" + 0.023*\"Sangallus\" + 0.023*\"annus\" + 0.022*\"dies\" + 0.022*\"episcopus\" + 0.021*\"amicus\" + 0.020*\"Ioachimus\"\n",
      "\n",
      "Topic: 1 \n",
      "Words: 0.056*\"litera\" + 0.030*\"filius\" + 0.025*\"dies\" + 0.025*\"rex\" + 0.019*\"dominus\" + 0.017*\"mensis\" + 0.015*\"amicus\" + 0.014*\"princeps\" + 0.013*\"uxor\" + 0.012*\"Tiguri\"\n",
      "\n",
      "Topic: 2 \n",
      "Words: 0.021*\"Rogandus\" + 0.014*\"Do\" + 0.012*\"dan\" + 0.012*\"corrector\" + 0.011*\"capitulus\" + 0.010*\"mona\" + 0.009*\"foeminus\" + 0.009*\"hyemis\" + 0.009*\"hortus\" + 0.008*\"tedium\"\n",
      "\n",
      "Topic: 3 \n",
      "Words: 0.022*\"Gwaltherus\" + 0.010*\"Jacobus\" + 0.010*\"conventiculum\" + 0.008*\"uictorię\" + 0.004*\"Observandissimo\" + 0.004*\"insipientia\" + 0.004*\"Ratisponensibus\" + 0.003*\"fedus\" + 0.003*\"forsitan\" + 0.003*\"Zender\"\n",
      "\n",
      "Topic: 4 \n",
      "Words: 0.110*\"Curię\" + 0.016*\"Balthasar\" + 0.015*\"Henryco\" + 0.015*\"Cęsaris\" + 0.014*\"Corsica\" + 0.011*\"Audies\" + 0.011*\"Satanę\" + 0.010*\"praestantissimum\" + 0.009*\"Sulcero\" + 0.009*\"Brugensis\"\n",
      "\n",
      "Topic: 5 \n",
      "Words: 0.055*\"excellentia\" + 0.029*\"Froschoverum\" + 0.021*\"Gilbertus\" + 0.018*\"Cognatus\" + 0.014*\"Leopoldus\" + 0.013*\"Tumultus\" + 0.010*\"Biellnis\" + 0.010*\"Fry\" + 0.010*\"syngrapha\" + 0.007*\"Bersius\"\n",
      "\n",
      "Topic: 6 \n",
      "Words: 0.011*\"Bolonia\" + 0.007*\"Zebaoth\" + 0.005*\"classicus\" + 0.004*\"conciliator\" + 0.004*\"atrocitas\" + 0.004*\"annunciatio\" + 0.004*\"mire\" + 0.004*\"Papistę\" + 0.003*\"Gandavum\" + 0.002*\"Hürusius\"\n",
      "\n",
      "Topic: 7 \n",
      "Words: 0.016*\"indolis\" + 0.013*\"Brentius\" + 0.013*\"pressura\" + 0.012*\"caseus\" + 0.011*\"itinerium\" + 0.007*\"uulgo\" + 0.007*\"gry\" + 0.006*\"cordatus\" + 0.005*\"rescriptum\" + 0.005*\"cacodaemo\"\n",
      "\n",
      "Topic: 8 \n",
      "Words: 0.014*\"festus\" + 0.014*\"Th\" + 0.013*\"profusio\" + 0.010*\"recitatio\" + 0.010*\"papiro\" + 0.009*\"Achitophelis\" + 0.008*\"collocutio\" + 0.007*\"Neoburgi\" + 0.006*\"uigesima\" + 0.004*\"commemoratio\"\n",
      "\n",
      "Topic: 9 \n",
      "Words: 0.032*\"Glarona\" + 0.025*\"Antronius\" + 0.021*\"Florianus\" + 0.015*\"Gereon\" + 0.014*\"Happelius\" + 0.009*\"Tygurina\" + 0.009*\"Uictor\" + 0.007*\"sedis\" + 0.006*\"Cato\" + 0.006*\"Marpurgus\"\n",
      "\n",
      "Topic: 10 \n",
      "Words: 0.090*\"Campellus\" + 0.015*\"Gervasius\" + 0.010*\"Renensis\" + 0.010*\"Geruasius\" + 0.009*\"humanitatus\" + 0.008*\"delitia\" + 0.007*\"Venerande\" + 0.006*\"Salve\" + 0.006*\"Rheticus\" + 0.006*\"Menno\"\n",
      "\n",
      "Topic: 11 \n",
      "Words: 0.051*\"Aurelia\" + 0.025*\"Norimberga\" + 0.016*\"Francofurtus\" + 0.014*\"Miles\" + 0.012*\"Friburgus\" + 0.011*\"Mediolano\" + 0.011*\"Salodorenses\" + 0.010*\"obtundum\" + 0.008*\"Legati\" + 0.007*\"scola\"\n",
      "\n",
      "Topic: 12 \n",
      "Words: 0.096*\"dominus\" + 0.060*\"frater\" + 0.031*\"uir\" + 0.021*\"Christus\" + 0.019*\"Bullingerus\" + 0.018*\"ecclesia\" + 0.016*\"nihil\" + 0.016*\"Tiguri\" + 0.015*\"amicus\" + 0.014*\"litera\"\n",
      "\n",
      "Topic: 13 \n",
      "Words: 0.014*\"Hermannus\" + 0.013*\"domesticus\" + 0.012*\"salarius\" + 0.012*\"Anglię\" + 0.011*\"celsitudi\" + 0.011*\"incola\" + 0.011*\"Reverendus\" + 0.011*\"questor\" + 0.011*\"sarcinula\" + 0.010*\"Thurca\"\n",
      "\n",
      "Topic: 14 \n",
      "Words: 0.031*\"homo\" + 0.020*\"lex\" + 0.015*\"fides\" + 0.013*\"ueritas\" + 0.013*\"liber\" + 0.013*\"res\" + 0.012*\"dominus\" + 0.010*\"opus\" + 0.009*\"uerbum\" + 0.008*\"genus\"\n",
      "\n",
      "Topic: 15 \n",
      "Words: 0.095*\"ecclesia\" + 0.038*\"frater\" + 0.031*\"res\" + 0.024*\"Christus\" + 0.021*\"confessio\" + 0.018*\"minister\" + 0.018*\"sententia\" + 0.017*\"dominus\" + 0.015*\"doctrina\" + 0.015*\"nihil\"\n",
      "\n",
      "Topic: 16 \n",
      "Words: 0.046*\"Polonia\" + 0.035*\"Polonus\" + 0.015*\"Sabaudo\" + 0.011*\"commissarius\" + 0.011*\"sangallus\" + 0.011*\"Marchium\" + 0.010*\"Tridentum\" + 0.008*\"Arianus\" + 0.007*\"marchionatus\" + 0.007*\"Persarum\"\n",
      "\n",
      "Topic: 17 \n",
      "Words: 0.010*\"her\" + 0.008*\"Bulingero\" + 0.007*\"tridentinus\" + 0.004*\"erratum\" + 0.004*\"Pedioneus\" + 0.003*\"foederatum\" + 0.003*\"Hascus\" + 0.002*\"Coactus\" + 0.002*\"Brunsvicensem\" + 0.002*\"Wormatię\"\n",
      "\n",
      "Topic: 18 \n",
      "Words: 0.021*\"Badensia\" + 0.012*\"turris\" + 0.012*\"Claronensibus\" + 0.010*\"evangelista\" + 0.010*\"isthuc\" + 0.007*\"Medicus\" + 0.007*\"sat\" + 0.007*\"cognomen\" + 0.006*\"Longe\" + 0.006*\"Francfordię\"\n",
      "\n",
      "Topic: 19 \n",
      "Words: 0.021*\"Valletelina\" + 0.010*\"Wolffius\" + 0.010*\"imagi\" + 0.008*\"Graeca\" + 0.007*\"agendę\" + 0.007*\"Misnia\" + 0.005*\"Uertumnus\" + 0.004*\"anulus\" + 0.004*\"musęo\" + 0.004*\"Consolatio\"\n",
      "\n",
      "Topic: 20 \n",
      "Words: 0.008*\"Tutus\" + 0.006*\"Curabis\" + 0.005*\"carnifix\" + 0.004*\"rapacitas\" + 0.004*\"Tussanus\" + 0.003*\"Raptissime\" + 0.003*\"Tristitia\" + 0.003*\"uertigo\" + 0.003*\"Hervagius\" + 0.002*\"mansuetudi\"\n",
      "\n",
      "Topic: 21 \n",
      "Words: 0.015*\"Hainricus\" + 0.013*\"Buttlerus\" + 0.008*\"Zieglero\" + 0.008*\"Friburgenses\" + 0.008*\"locatio\" + 0.008*\"Germanico\" + 0.006*\"imitator\" + 0.005*\"Saxonica\" + 0.005*\"Cochleo\" + 0.004*\"Brandenburg\"\n",
      "\n",
      "Topic: 22 \n",
      "Words: 0.079*\"Christus\" + 0.067*\"corpus\" + 0.041*\"coena\" + 0.034*\"dominus\" + 0.032*\"sacramentum\" + 0.031*\"uerbum\" + 0.027*\"panis\" + 0.027*\"fides\" + 0.020*\"res\" + 0.019*\"Lutherus\"\n",
      "\n",
      "Topic: 23 \n",
      "Words: 0.047*\"Bucerus\" + 0.026*\"concordia\" + 0.023*\"Lutherus\" + 0.022*\"Io\" + 0.018*\"Buceri\" + 0.018*\"Hainricho\" + 0.015*\"articulus\" + 0.012*\"Lutheri\" + 0.012*\"praestantia\" + 0.010*\"Bucer\"\n",
      "\n",
      "Topic: 24 \n",
      "Words: 0.052*\"Heydelberga\" + 0.022*\"Mons\" + 0.021*\"Clarona\" + 0.019*\"frumentum\" + 0.014*\"Haller\" + 0.013*\"Wolffgangus\" + 0.011*\"homuncio\" + 0.011*\"Wickius\" + 0.009*\"Quaestor\" + 0.007*\"Hall\"\n",
      "\n",
      "Topic: 25 \n",
      "Words: 0.098*\"deus\" + 0.079*\"Christus\" + 0.030*\"pater\" + 0.024*\"dominus\" + 0.023*\"spiritus\" + 0.022*\"ecclesia\" + 0.020*\"fides\" + 0.020*\"homo\" + 0.020*\"filius\" + 0.019*\"uerbum\"\n",
      "\n",
      "Topic: 26 \n",
      "Words: 0.049*\"frater\" + 0.046*\"Gratia\" + 0.030*\"Leo\" + 0.027*\"pax\" + 0.026*\"H.\" + 0.024*\"epistola\" + 0.022*\"Bullingerus\" + 0.020*\"Heinricus\" + 0.019*\"Myconium\" + 0.016*\"senatus\"\n",
      "\n",
      "Topic: 27 \n",
      "Words: 0.043*\"celsitudo\" + 0.004*\"leonum\" + 0.004*\"Andreęs\" + 0.004*\"Senes\" + 0.003*\"musa\" + 0.003*\"Parentes\" + 0.002*\"pernego\" + 0.002*\"Tuta\" + 0.002*\"Aulus\" + 0.001*\"franca\"\n",
      "\n",
      "Topic: 28 \n",
      "Words: 0.069*\"pater\" + 0.060*\"uir\" + 0.045*\"Curia\" + 0.034*\"Bullingerus\" + 0.031*\"Heinrycho\" + 0.031*\"Philippus\" + 0.031*\"consul\" + 0.030*\"Fabricius\" + 0.027*\"dies\" + 0.027*\"Christus\"\n",
      "\n",
      "Topic: 29 \n",
      "Words: 0.039*\"princeps\" + 0.013*\"deus\" + 0.011*\"dies\" + 0.011*\"liber\" + 0.010*\"religio\" + 0.010*\"episcopus\" + 0.010*\"Christus\" + 0.009*\"res\" + 0.009*\"uir\" + 0.007*\"annus\"\n",
      "\n",
      "Topic: 30 \n",
      "Words: 0.010*\"impatientia\" + 0.008*\"velitatio\" + 0.008*\"Hospes\" + 0.006*\"Schnepfii\" + 0.004*\"avia\" + 0.004*\"Italicę\" + 0.004*\"metropolim\" + 0.004*\"Rumusculus\" + 0.003*\"Fernandus\" + 0.003*\"loquaculus\"\n",
      "\n",
      "Topic: 31 \n",
      "Words: 0.021*\"Christopherus\" + 0.014*\"Solodorenses\" + 0.013*\"Negelinus\" + 0.012*\"dann\" + 0.007*\"uarii\" + 0.006*\"proditionus\" + 0.006*\"magnas\" + 0.006*\"recht\" + 0.005*\"Lasko\" + 0.005*\"Norinbergenses\"\n",
      "\n",
      "Topic: 32 \n",
      "Words: 0.008*\"Gerhardus\" + 0.005*\"Novitas\" + 0.005*\"pluma\" + 0.005*\"ęquis\" + 0.002*\"Villa\" + 0.002*\"Rediturus\" + 0.002*\"Gebennenses\" + 0.002*\"Petus\" + 0.002*\"grabatus\" + 0.001*\"av\"\n",
      "\n",
      "Topic: 33 \n",
      "Words: 0.133*\"dominus\" + 0.036*\"Bullingerus\" + 0.033*\"Heinrycho\" + 0.032*\"Hallerus\" + 0.031*\"ecclesia\" + 0.028*\"Iohannes\" + 0.028*\"uir\" + 0.027*\"frater\" + 0.025*\"Musculus\" + 0.025*\"compater\"\n",
      "\n",
      "Topic: 34 \n",
      "Words: 0.073*\"liber\" + 0.024*\"opus\" + 0.018*\"scriptura\" + 0.017*\"praefatio\" + 0.016*\"epistola\" + 0.015*\"Paulus\" + 0.014*\"commentarium\" + 0.014*\"locus\" + 0.011*\"scriptor\" + 0.011*\"Petrus\"\n",
      "\n",
      "Topic: 35 \n",
      "Words: 0.030*\"domina\" + 0.014*\"Ocyssime\" + 0.010*\"dissimulatio\" + 0.009*\"Lazarus\" + 0.009*\"Iulianus\" + 0.008*\"tussis\" + 0.008*\"Buda\" + 0.007*\"uterus\" + 0.007*\"Hennricho\" + 0.006*\"excelsum\"\n",
      "\n",
      "Topic: 36 \n",
      "Words: 0.002*\"Ezechia\" + 0.002*\"Josia\" + 0.002*\"adstipulator\" + 0.001*\"Machabeus\" + 0.001*\"Iudeus\" + 0.001*\"Cyrus\" + 0.001*\"Josaphat\" + 0.001*\"Initium\" + 0.000*\"vocatio\" + 0.000*\"necessitudi\"\n",
      "\n",
      "Topic: 37 \n",
      "Words: 0.017*\"homilia\" + 0.013*\"publicatio\" + 0.010*\"Bruxellae\" + 0.008*\"catholicus\" + 0.006*\"foelex\" + 0.006*\"lacryma\" + 0.005*\"Lectis\" + 0.005*\"Frölich\" + 0.004*\"Gratus\" + 0.004*\"grammatophorus\"\n",
      "\n",
      "Topic: 38 \n",
      "Words: 0.062*\"Lentulus\" + 0.021*\"fol\" + 0.008*\"August\" + 0.007*\"communica\" + 0.006*\"Aug.\" + 0.006*\"Caes.\" + 0.005*\"V.\" + 0.005*\"Tubinge\" + 0.004*\"districtus\" + 0.004*\"M.\"\n",
      "\n",
      "Topic: 39 \n",
      "Words: 0.016*\"Mercurius\" + 0.011*\"eversio\" + 0.009*\"curriculum\" + 0.008*\"proconsul\" + 0.008*\"apices\" + 0.007*\"centurio\" + 0.006*\"sexcentus\" + 0.006*\"numisma\" + 0.005*\"schaffhusii\" + 0.005*\"Tubingę\"\n",
      "\n",
      "Topic: 40 \n",
      "Words: 0.063*\"dominus\" + 0.028*\"annus\" + 0.026*\"Bullingerus\" + 0.025*\"Heinricho\" + 0.022*\"Basileę\" + 0.020*\"nihil\" + 0.016*\"Myconius\" + 0.016*\"ciuitas\" + 0.016*\"Basilea\" + 0.016*\"Cęsar\"\n",
      "\n",
      "Topic: 41 \n",
      "Words: 0.040*\"dominus\" + 0.033*\"uir\" + 0.026*\"litera\" + 0.024*\"res\" + 0.020*\"ecclesia\" + 0.018*\"deus\" + 0.018*\"animus\" + 0.013*\"Bullingerus\" + 0.013*\"nomen\" + 0.013*\"Christus\"\n",
      "\n",
      "Topic: 42 \n",
      "Words: 0.033*\"Uenerandus\" + 0.021*\"Fasciculus\" + 0.008*\"men\" + 0.007*\"exprobratio\" + 0.005*\"Gerardus\" + 0.005*\"Profectus\" + 0.005*\"Schönerus\" + 0.004*\"Amorbachium\" + 0.004*\"Agricolę\" + 0.004*\"Homericus\"\n",
      "\n",
      "Topic: 43 \n",
      "Words: 0.008*\"actutum\" + 0.005*\"Knoblouchus\" + 0.004*\"Tossani\" + 0.003*\"Corycęis\" + 0.003*\"Wunderlych\" + 0.001*\"Stumpfio\" + 0.001*\"otius\" + 0.001*\"Iudis\" + 0.000*\"franci\" + 0.000*\"periodus\"\n",
      "\n",
      "Topic: 44 \n",
      "Words: 0.011*\"Mathaeus\" + 0.009*\"opto\" + 0.009*\"Viennę\" + 0.009*\"Expectabimus\" + 0.008*\"discordię\" + 0.007*\"determinatio\" + 0.005*\"anabaptismus\" + 0.005*\"teruncius\" + 0.004*\"Occupatissimus\" + 0.004*\"caseos\"\n",
      "\n",
      "Topic: 45 \n",
      "Words: 0.029*\"Reverendo\" + 0.022*\"Lugdunis\" + 0.020*\"Scaphusia\" + 0.020*\"Angliae\" + 0.017*\"Lotharingia\" + 0.016*\"Picardia\" + 0.012*\"Maynardus\" + 0.010*\"Halesius\" + 0.010*\"Rosetus\" + 0.008*\"Ulmis\"\n",
      "\n",
      "Topic: 46 \n",
      "Words: 0.028*\"rex\" + 0.024*\"legatus\" + 0.024*\"res\" + 0.016*\"bellum\" + 0.016*\"Gallia\" + 0.015*\"nihil\" + 0.013*\"miles\" + 0.013*\"princeps\" + 0.011*\"dux\" + 0.011*\"pax\"\n",
      "\n",
      "Topic: 47 \n",
      "Words: 0.025*\"res\" + 0.025*\"dominus\" + 0.025*\"senatus\" + 0.019*\"litera\" + 0.019*\"nihil\" + 0.017*\"uir\" + 0.014*\"frater\" + 0.013*\"ecclesia\" + 0.013*\"causa\" + 0.013*\"dies\"\n",
      "\n",
      "Topic: 48 \n",
      "Words: 0.012*\"tempestiue\" + 0.009*\"Betuleius\" + 0.009*\"Pollanus\" + 0.008*\"sal\" + 0.008*\"Xystus\" + 0.007*\"Ungari\" + 0.006*\"Eber\" + 0.006*\"coronatio\" + 0.005*\"Caueo\" + 0.005*\"Heinrich\"\n",
      "\n",
      "Topic: 49 \n",
      "Words: 0.047*\"rex\" + 0.037*\"Anglia\" + 0.028*\"regnum\" + 0.026*\"regina\" + 0.023*\"episcopus\" + 0.018*\"litera\" + 0.013*\"dominus\" + 0.013*\"religio\" + 0.012*\"ecclesia\" + 0.011*\"deus\"\n",
      "\n"
     ]
    }
   ],
   "source": [
    "# Train LDA model\n",
    "num_topics = 50  # You can adjust this based on your data and requirements\n",
    "lda = gensim.models.LdaModel(corpus, id2word=dictionary, num_topics=num_topics, passes=15)\n",
    "\n",
    "# Print the topics\n",
    "for idx, topic in lda.print_topics(-1):\n",
    "    print(f\"Topic: {idx} \\nWords: {topic}\\n\")"
   ]
  },
  {
   "cell_type": "code",
   "execution_count": 43,
   "id": "ef19a052",
   "metadata": {},
   "outputs": [],
   "source": [
    "lda.save(\"gensim_lda_model-bullinger_nouns_50topics\")"
   ]
  },
  {
   "cell_type": "code",
   "execution_count": 44,
   "id": "7d7c5339",
   "metadata": {},
   "outputs": [
    {
     "ename": "AttributeError",
     "evalue": "module 'gensim.models' has no attribute 'wrappers'",
     "output_type": "error",
     "traceback": [
      "\u001b[0;31m---------------------------------------------------------------------------\u001b[0m",
      "\u001b[0;31mAttributeError\u001b[0m                            Traceback (most recent call last)",
      "Input \u001b[0;32mIn [44]\u001b[0m, in \u001b[0;36m<cell line: 5>\u001b[0;34m()\u001b[0m\n\u001b[1;32m      2\u001b[0m mallet_path \u001b[38;5;241m=\u001b[39m \u001b[38;5;124m'\u001b[39m\u001b[38;5;124m/home/phillip/Documents/applications/Mallet/bin/mallet\u001b[39m\u001b[38;5;124m'\u001b[39m \n\u001b[1;32m      4\u001b[0m num_topics \u001b[38;5;241m=\u001b[39m \u001b[38;5;241m50\u001b[39m  \u001b[38;5;66;03m# You can adjust this based on your data and requirements\u001b[39;00m\n\u001b[0;32m----> 5\u001b[0m lda_mallet \u001b[38;5;241m=\u001b[39m \u001b[43mgensim\u001b[49m\u001b[38;5;241;43m.\u001b[39;49m\u001b[43mmodels\u001b[49m\u001b[38;5;241;43m.\u001b[39;49m\u001b[43mwrappers\u001b[49m\u001b[38;5;241m.\u001b[39mLdaMallet(corpus, id2word\u001b[38;5;241m=\u001b[39mdictionary, num_topics\u001b[38;5;241m=\u001b[39mnum_topics)\n\u001b[1;32m      7\u001b[0m \u001b[38;5;66;03m# Print the topics\u001b[39;00m\n\u001b[1;32m      8\u001b[0m \u001b[38;5;28;01mfor\u001b[39;00m idx, topic \u001b[38;5;129;01min\u001b[39;00m lda_mallet\u001b[38;5;241m.\u001b[39mprint_topics(\u001b[38;5;241m-\u001b[39m\u001b[38;5;241m1\u001b[39m):\n",
      "\u001b[0;31mAttributeError\u001b[0m: module 'gensim.models' has no attribute 'wrappers'"
     ]
    }
   ],
   "source": [
    "# Train LDA model with Mallet\n",
    "mallet_path = '/home/phillip/Documents/applications/Mallet/bin/mallet' \n",
    "\n",
    "num_topics = 50  # You can adjust this based on your data and requirements\n",
    "lda_mallet = gensim.models.wrappers.LdaMallet(corpus, id2word=dictionary, num_topics=num_topics)\n",
    "\n",
    "# Print the topics\n",
    "for idx, topic in lda_mallet.print_topics(-1):\n",
    "    print(f\"Topic: {idx} \\nWords: {topic}\\n\")"
   ]
  },
  {
   "cell_type": "code",
   "execution_count": null,
   "id": "b432f671",
   "metadata": {},
   "outputs": [],
   "source": []
  }
 ],
 "metadata": {
  "kernelspec": {
   "display_name": "Python 3 (ipykernel)",
   "language": "python",
   "name": "python3"
  },
  "language_info": {
   "codemirror_mode": {
    "name": "ipython",
    "version": 3
   },
   "file_extension": ".py",
   "mimetype": "text/x-python",
   "name": "python",
   "nbconvert_exporter": "python",
   "pygments_lexer": "ipython3",
   "version": "3.10.12"
  }
 },
 "nbformat": 4,
 "nbformat_minor": 5
}
